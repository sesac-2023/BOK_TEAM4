{
 "cells": [
  {
   "cell_type": "code",
   "execution_count": 9,
   "metadata": {},
   "outputs": [],
   "source": [
    "from sklearn.feature_extraction.text import CountVectorizer\n",
    "from sklearn.model_selection import train_test_split\n",
    "from sklearn.naive_bayes import MultinomialNB\n",
    "import numpy as np\n",
    "import pandas as pd"
   ]
  },
  {
   "cell_type": "code",
   "execution_count": 68,
   "metadata": {},
   "outputs": [],
   "source": [
    "df = pd.read_csv('./save_news.csv', index_col=0)    # sample data"
   ]
  },
  {
   "cell_type": "code",
   "execution_count": 69,
   "metadata": {},
   "outputs": [
    {
     "data": {
      "text/html": [
       "<div>\n",
       "<style scoped>\n",
       "    .dataframe tbody tr th:only-of-type {\n",
       "        vertical-align: middle;\n",
       "    }\n",
       "\n",
       "    .dataframe tbody tr th {\n",
       "        vertical-align: top;\n",
       "    }\n",
       "\n",
       "    .dataframe thead th {\n",
       "        text-align: right;\n",
       "    }\n",
       "</style>\n",
       "<table border=\"1\" class=\"dataframe\">\n",
       "  <thead>\n",
       "    <tr style=\"text-align: right;\">\n",
       "      <th></th>\n",
       "      <th>result</th>\n",
       "      <th>up_down</th>\n",
       "    </tr>\n",
       "  </thead>\n",
       "  <tbody>\n",
       "    <tr>\n",
       "      <th>0</th>\n",
       "      <td>[('가', 'VV'), ('의결', 'NNG'), ('안건', 'NNG'), ('...</td>\n",
       "      <td>상승</td>\n",
       "    </tr>\n",
       "    <tr>\n",
       "      <th>1</th>\n",
       "      <td>[('가', 'VV'), ('의결', 'NNG'), ('안건', 'NNG'), ('...</td>\n",
       "      <td>상승</td>\n",
       "    </tr>\n",
       "    <tr>\n",
       "      <th>2</th>\n",
       "      <td>[('가', 'VV'), ('의결', 'NNG'), ('안건', 'NNG'), ('...</td>\n",
       "      <td>상승</td>\n",
       "    </tr>\n",
       "    <tr>\n",
       "      <th>3</th>\n",
       "      <td>[('가', 'VV'), ('의결', 'NNG'), ('안건', 'NNG'), ('...</td>\n",
       "      <td>상승</td>\n",
       "    </tr>\n",
       "    <tr>\n",
       "      <th>4</th>\n",
       "      <td>[('가', 'VV'), ('의결', 'NNG'), ('안건', 'NNG'), ('...</td>\n",
       "      <td>상승</td>\n",
       "    </tr>\n",
       "    <tr>\n",
       "      <th>...</th>\n",
       "      <td>...</td>\n",
       "      <td>...</td>\n",
       "    </tr>\n",
       "    <tr>\n",
       "      <th>260</th>\n",
       "      <td>[('가', 'VV'), ('의결', 'NNG'), ('안건', 'NNG'), ('...</td>\n",
       "      <td>하락</td>\n",
       "    </tr>\n",
       "    <tr>\n",
       "      <th>261</th>\n",
       "      <td>[('가', 'VV'), ('의결', 'NNG'), ('안건', 'NNG'), ('...</td>\n",
       "      <td>상승</td>\n",
       "    </tr>\n",
       "    <tr>\n",
       "      <th>262</th>\n",
       "      <td>[('가', 'VV'), ('의결', 'NNG'), ('안건', 'NNG'), ('...</td>\n",
       "      <td>상승</td>\n",
       "    </tr>\n",
       "    <tr>\n",
       "      <th>263</th>\n",
       "      <td>[('가', 'VV'), ('의결', 'NNG'), ('안건', 'NNG'), ('...</td>\n",
       "      <td>하락</td>\n",
       "    </tr>\n",
       "    <tr>\n",
       "      <th>264</th>\n",
       "      <td>[('가', 'VV'), ('의결', 'NNG'), ('안건', 'NNG'), ('...</td>\n",
       "      <td>하락</td>\n",
       "    </tr>\n",
       "  </tbody>\n",
       "</table>\n",
       "<p>265 rows × 2 columns</p>\n",
       "</div>"
      ],
      "text/plain": [
       "                                                result up_down\n",
       "0    [('가', 'VV'), ('의결', 'NNG'), ('안건', 'NNG'), ('...      상승\n",
       "1    [('가', 'VV'), ('의결', 'NNG'), ('안건', 'NNG'), ('...      상승\n",
       "2    [('가', 'VV'), ('의결', 'NNG'), ('안건', 'NNG'), ('...      상승\n",
       "3    [('가', 'VV'), ('의결', 'NNG'), ('안건', 'NNG'), ('...      상승\n",
       "4    [('가', 'VV'), ('의결', 'NNG'), ('안건', 'NNG'), ('...      상승\n",
       "..                                                 ...     ...\n",
       "260  [('가', 'VV'), ('의결', 'NNG'), ('안건', 'NNG'), ('...      하락\n",
       "261  [('가', 'VV'), ('의결', 'NNG'), ('안건', 'NNG'), ('...      상승\n",
       "262  [('가', 'VV'), ('의결', 'NNG'), ('안건', 'NNG'), ('...      상승\n",
       "263  [('가', 'VV'), ('의결', 'NNG'), ('안건', 'NNG'), ('...      하락\n",
       "264  [('가', 'VV'), ('의결', 'NNG'), ('안건', 'NNG'), ('...      하락\n",
       "\n",
       "[265 rows x 2 columns]"
      ]
     },
     "execution_count": 69,
     "metadata": {},
     "output_type": "execute_result"
    }
   ],
   "source": [
    "df"
   ]
  },
  {
   "cell_type": "code",
   "execution_count": 70,
   "metadata": {},
   "outputs": [],
   "source": [
    "df['labels'] = df['up_down'].apply(lambda x: 0 if x == '하락' else (1 if x == '0' else 2))"
   ]
  },
  {
   "cell_type": "code",
   "execution_count": 71,
   "metadata": {},
   "outputs": [
    {
     "data": {
      "text/html": [
       "<div>\n",
       "<style scoped>\n",
       "    .dataframe tbody tr th:only-of-type {\n",
       "        vertical-align: middle;\n",
       "    }\n",
       "\n",
       "    .dataframe tbody tr th {\n",
       "        vertical-align: top;\n",
       "    }\n",
       "\n",
       "    .dataframe thead th {\n",
       "        text-align: right;\n",
       "    }\n",
       "</style>\n",
       "<table border=\"1\" class=\"dataframe\">\n",
       "  <thead>\n",
       "    <tr style=\"text-align: right;\">\n",
       "      <th></th>\n",
       "      <th>result</th>\n",
       "      <th>up_down</th>\n",
       "      <th>labels</th>\n",
       "    </tr>\n",
       "  </thead>\n",
       "  <tbody>\n",
       "    <tr>\n",
       "      <th>0</th>\n",
       "      <td>[('가', 'VV'), ('의결', 'NNG'), ('안건', 'NNG'), ('...</td>\n",
       "      <td>상승</td>\n",
       "      <td>2</td>\n",
       "    </tr>\n",
       "    <tr>\n",
       "      <th>1</th>\n",
       "      <td>[('가', 'VV'), ('의결', 'NNG'), ('안건', 'NNG'), ('...</td>\n",
       "      <td>상승</td>\n",
       "      <td>2</td>\n",
       "    </tr>\n",
       "    <tr>\n",
       "      <th>2</th>\n",
       "      <td>[('가', 'VV'), ('의결', 'NNG'), ('안건', 'NNG'), ('...</td>\n",
       "      <td>상승</td>\n",
       "      <td>2</td>\n",
       "    </tr>\n",
       "    <tr>\n",
       "      <th>3</th>\n",
       "      <td>[('가', 'VV'), ('의결', 'NNG'), ('안건', 'NNG'), ('...</td>\n",
       "      <td>상승</td>\n",
       "      <td>2</td>\n",
       "    </tr>\n",
       "    <tr>\n",
       "      <th>4</th>\n",
       "      <td>[('가', 'VV'), ('의결', 'NNG'), ('안건', 'NNG'), ('...</td>\n",
       "      <td>상승</td>\n",
       "      <td>2</td>\n",
       "    </tr>\n",
       "  </tbody>\n",
       "</table>\n",
       "</div>"
      ],
      "text/plain": [
       "                                              result up_down  labels\n",
       "0  [('가', 'VV'), ('의결', 'NNG'), ('안건', 'NNG'), ('...      상승       2\n",
       "1  [('가', 'VV'), ('의결', 'NNG'), ('안건', 'NNG'), ('...      상승       2\n",
       "2  [('가', 'VV'), ('의결', 'NNG'), ('안건', 'NNG'), ('...      상승       2\n",
       "3  [('가', 'VV'), ('의결', 'NNG'), ('안건', 'NNG'), ('...      상승       2\n",
       "4  [('가', 'VV'), ('의결', 'NNG'), ('안건', 'NNG'), ('...      상승       2"
      ]
     },
     "execution_count": 71,
     "metadata": {},
     "output_type": "execute_result"
    }
   ],
   "source": [
    "df.head()"
   ]
  },
  {
   "cell_type": "code",
   "execution_count": 74,
   "metadata": {},
   "outputs": [
    {
     "name": "stdout",
     "output_type": "stream",
     "text": [
      "0.9747899159663865\n",
      "0.5925925925925926\n",
      "  (0, 800035)\t1\n",
      "  (0, 1092087)\t1\n",
      "상승\n"
     ]
    }
   ],
   "source": [
    "x_data = np.array(df['result'])\n",
    "y_data = np.array(df['labels'])\n",
    "labels = np.array(df['up_down'])\n",
    "\n",
    "vectorizer = CountVectorizer(ngram_range=(1, 5))\n",
    "vectorizer.fit(x_data)\n",
    "x_data = vectorizer.transform(x_data)\n",
    "# print(x_data)\n",
    "\n",
    "x_train, x_test, y_train, y_test = train_test_split(x_data, y_data, test_size=0.1, random_state=777, stratify=y_data)\n",
    "\n",
    "##########모델 생성\n",
    "\n",
    "model = MultinomialNB(alpha=1.0)\n",
    "\n",
    "##########모델 학습\n",
    "\n",
    "model.fit(x_train, y_train)\n",
    "\n",
    "##########모델 검증\n",
    "\n",
    "print(model.score(x_train, y_train)) #1.0\n",
    "\n",
    "print(model.score(x_test, y_test)) #1.0\n",
    "\n",
    "x_test = ['구조적 실업자로 전환되면서 자연실업률이 상승'] # sample - 무시해도 무방\n",
    "x_test = vectorizer.transform(x_test)\n",
    "print(x_test) #\n",
    "\n",
    "y_predict = model.predict(x_test)\n",
    "print(labels[y_predict[0]])"
   ]
  },
  {
   "cell_type": "code",
   "execution_count": null,
   "metadata": {},
   "outputs": [],
   "source": []
  }
 ],
 "metadata": {
  "kernelspec": {
   "display_name": "py38",
   "language": "python",
   "name": "python3"
  },
  "language_info": {
   "codemirror_mode": {
    "name": "ipython",
    "version": 3
   },
   "file_extension": ".py",
   "mimetype": "text/x-python",
   "name": "python",
   "nbconvert_exporter": "python",
   "pygments_lexer": "ipython3",
   "version": "3.8.16"
  },
  "orig_nbformat": 4
 },
 "nbformat": 4,
 "nbformat_minor": 2
}
