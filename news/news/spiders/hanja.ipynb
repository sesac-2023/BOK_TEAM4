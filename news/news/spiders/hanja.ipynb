{
 "cells": [
  {
   "cell_type": "code",
   "execution_count": 1,
   "metadata": {},
   "outputs": [],
   "source": [
    "import hanja\n",
    "from hanja import hangul"
   ]
  },
  {
   "cell_type": "code",
   "execution_count": 5,
   "metadata": {},
   "outputs": [
    {
     "ename": "ImportError",
     "evalue": "cannot import name 'translate' from 'hanja.hangul' (c:\\Users\\user\\Downloads\\anaconda\\envs\\bok\\Lib\\site-packages\\hanja\\hangul.py)",
     "output_type": "error",
     "traceback": [
      "\u001b[1;31m---------------------------------------------------------------------------\u001b[0m",
      "\u001b[1;31mImportError\u001b[0m                               Traceback (most recent call last)",
      "Cell \u001b[1;32mIn[5], line 3\u001b[0m\n\u001b[0;32m      1\u001b[0m \u001b[39mimport\u001b[39;00m \u001b[39mhanja\u001b[39;00m\n\u001b[0;32m      2\u001b[0m \u001b[39mfrom\u001b[39;00m \u001b[39mhanja\u001b[39;00m \u001b[39mimport\u001b[39;00m hangul\n\u001b[1;32m----> 3\u001b[0m \u001b[39mfrom\u001b[39;00m \u001b[39mhanja\u001b[39;00m\u001b[39m.\u001b[39;00m\u001b[39mhangul\u001b[39;00m \u001b[39mimport\u001b[39;00m translate\n\u001b[0;32m      5\u001b[0m title_mixed \u001b[39m=\u001b[39m \u001b[39m\"\u001b[39m\u001b[39m韓國經濟成長과 발展\u001b[39m\u001b[39m\"\u001b[39m\n\u001b[0;32m      6\u001b[0m converted_title \u001b[39m=\u001b[39m hangul\u001b[39m.\u001b[39mtranslate(title_mixed, \u001b[39m'\u001b[39m\u001b[39msubstitution\u001b[39m\u001b[39m'\u001b[39m)\n",
      "\u001b[1;31mImportError\u001b[0m: cannot import name 'translate' from 'hanja.hangul' (c:\\Users\\user\\Downloads\\anaconda\\envs\\bok\\Lib\\site-packages\\hanja\\hangul.py)"
     ]
    }
   ],
   "source": [
    "import hanja\n",
    "from hanja import hangul\n",
    "from hanja.hangul import translate\n",
    "\n",
    "title_mixed = \"韓國經濟成長과 발展\"\n",
    "converted_title = hangul.translate(title_mixed, 'substitution')\n",
    "print(converted_title)"
   ]
  },
  {
   "cell_type": "code",
   "execution_count": null,
   "metadata": {},
   "outputs": [],
   "source": []
  }
 ],
 "metadata": {
  "kernelspec": {
   "display_name": "Python 3",
   "language": "python",
   "name": "python3"
  },
  "language_info": {
   "codemirror_mode": {
    "name": "ipython",
    "version": 3
   },
   "file_extension": ".py",
   "mimetype": "text/x-python",
   "name": "python",
   "nbconvert_exporter": "python",
   "pygments_lexer": "ipython3",
   "version": "3.11.4"
  },
  "orig_nbformat": 4
 },
 "nbformat": 4,
 "nbformat_minor": 2
}
