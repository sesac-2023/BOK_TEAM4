{
 "cells": [
  {
   "cell_type": "markdown",
   "metadata": {},
   "source": [
    "### 코드 실행 시 주의사항"
   ]
  },
  {
   "cell_type": "code",
   "execution_count": null,
   "metadata": {},
   "outputs": [],
   "source": [
    "# def making_df():\n",
    "    # df = pd.read_csv('./news_temp.csv') << 여기서 전처리 진행할 파일 경로 설정\n",
    "    # df = df.dropna() # nan/none값 제거(네이버뉴스는 데이터 클렌징 할 때 처리했으므로 이 줄 삭제, 의사록/채권보고서는 ???)"
   ]
  },
  {
   "cell_type": "markdown",
   "metadata": {},
   "source": [
    "### 실행 코드"
   ]
  },
  {
   "cell_type": "code",
   "execution_count": 6,
   "metadata": {},
   "outputs": [],
   "source": [
    "import pandas as pd\n",
    "from ekonlpy.tag import Mecab\n",
    "\n",
    "class DataPreprocessing:\n",
    "    def __init__(self, csv_path):\n",
    "        self.df = pd.read_csv(csv_path)\n",
    "        self.mecab = Mecab()\n",
    "        self.stopPos = ['NNP', 'NNB', 'NNBC', 'NR', 'NP',\n",
    "                        'VX', 'VCP', 'MM', 'MAJ', 'IC', 'JKS',\n",
    "                        'JKC', 'JKG', 'JKO', 'JKB', 'JKV', 'JKQ',\n",
    "                        'JX', 'JC', 'EP', 'EF', 'EC', 'ETN', 'ETM',\n",
    "                        'XPN', 'XSN', 'XSV', 'XSA', 'XR', 'SF', 'SE',\n",
    "                        'SSO', 'SSCSY', 'SSC', 'SC', 'SY', 'SN']\n",
    "    \n",
    "    def making_df(self):\n",
    "        self.df = self.df.dropna()\n",
    "        data = self.df.groupby('date').agg({'title': '/'.join, 'contents': '/'.join}).reset_index()\n",
    "        melted_data = pd.melt(data, id_vars=['date'], value_vars=['title', 'contents'], var_name='column', value_name='title_contents')\n",
    "        data = melted_data.groupby('date')['title_contents'].agg('/'.join).reset_index()\n",
    "        return data\n",
    "    \n",
    "    def pos_tag(self, text):\n",
    "        return self.mecab.pos(text)\n",
    "    \n",
    "    def rm_stopPos(self, text):\n",
    "        return [word for word in text if word[1] not in self.stopPos]\n",
    "    \n",
    "    def synonyms(self, text):\n",
    "        return self.mecab.replace_synonyms(text)\n",
    "    \n",
    "    def lemmas(self, text):\n",
    "        return self.mecab.lemmatize(text)\n",
    "\n",
    "    def preprocess_data(self):\n",
    "        total_news = self.making_df()\n",
    "        total_news = total_news.assign(pos_tagging=\"\")\n",
    "        total_news['pos_tagging'] = total_news['title_contents'].apply(self.pos_tag)\n",
    "        total_news['remove_stopPos'] = total_news['pos_tagging'].apply(self.rm_stopPos)\n",
    "        total_news['synonyms'] = total_news['remove_stopPos'].apply(self.synonyms)\n",
    "        total_news['lemmas'] = total_news['synonyms'].apply(self.lemmas)\n",
    "        return total_news[['date', 'lemmas']]"
   ]
  },
  {
   "cell_type": "code",
   "execution_count": 7,
   "metadata": {},
   "outputs": [],
   "source": [
    "data_processor = DataPreprocessing('./news_temp.csv')\n",
    "preprocessed_data = data_processor.preprocess_data()"
   ]
  },
  {
   "cell_type": "code",
   "execution_count": 8,
   "metadata": {},
   "outputs": [],
   "source": [
    "preprocessed_data.to_csv('./save_preprocessing.csv')"
   ]
  },
  {
   "cell_type": "code",
   "execution_count": 24,
   "metadata": {},
   "outputs": [],
   "source": [
    "# 태깅된 형태에서 문자만 빼오기\n",
    "# total_news['result'] = ''\n",
    "\n",
    "# for i in range(len(total_news)):\n",
    "#     result = ''\n",
    "#     for j in range(len(total_news['lemmas'][i])):\n",
    "#         result += total_news['lemmas'][i][j][0][0] + ' '\n",
    "#     total_news.at[i, 'result'] = result.strip()\n",
    "\n",
    "# total_news"
   ]
  }
 ],
 "metadata": {
  "kernelspec": {
   "display_name": "study",
   "language": "python",
   "name": "python3"
  },
  "language_info": {
   "codemirror_mode": {
    "name": "ipython",
    "version": 3
   },
   "file_extension": ".py",
   "mimetype": "text/x-python",
   "name": "python",
   "nbconvert_exporter": "python",
   "pygments_lexer": "ipython3",
   "version": "3.8.17"
  },
  "orig_nbformat": 4
 },
 "nbformat": 4,
 "nbformat_minor": 2
}
