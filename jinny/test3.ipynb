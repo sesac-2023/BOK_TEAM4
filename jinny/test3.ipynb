{
 "cells": [
  {
   "cell_type": "code",
   "execution_count": 2,
   "metadata": {},
   "outputs": [
    {
     "name": "stdout",
     "output_type": "stream",
     "text": [
      "전처리 진행중\n",
      "                                                result up_down\n",
      "0    [(미, NNG), (증시, NNG), (대공황, NNG), (이후, NNG), (...      하락\n",
      "1    [(불황, NNG), (절세미인, NNG), (뜬다, VV), (불확실성, NNG)...      하락\n",
      "2    [(대통령, NNG), (MB, SL), (정부, NNG), (새해, NNG), (...      하락\n",
      "3    [(한은, NNG), (은행, NNG), (신경전, NNG), (새해, NNG), ...      하락\n",
      "4    [(한은, NNG), (RP, NNG), (매각, NNG), (낙찰, NNG), (...      하락\n",
      "..                                                 ...     ...\n",
      "995  [(금리, NNG), (그리, MAG), (저등, NNG), (급자, NNG), (...      상승\n",
      "996  [(채권, NNG), (발행, NNG), (믿, VV), (있, VA), (Week...      상승\n",
      "997  [(농협, NNG), (농금채, NNG), (발행, NNG), (중, NNG), (...      상승\n",
      "998  [(브라질, NNG), (증시, NNG), (상승, NNG), (올해, NNG), ...      상승\n",
      "999  [(캐리, NNG), (꿈틀, MAG), (저금리, NNG), (국가, NNG), ...      상승\n",
      "\n",
      "[1000 rows x 2 columns]\n",
      "전처리 완료\n"
     ]
    }
   ],
   "source": [
    "import pandas as pd\n",
    "from ekonlpy.tag import Mecab\n",
    "\n",
    "class DataPreprocessing:\n",
    "    def __init__(self, csv_path):\n",
    "        self.df = pd.read_csv(csv_path, index_col=0)\n",
    "        self.mecab = Mecab()\n",
    "        self.stopPos = ['NNP', 'NNB', 'NNBC', 'NR', 'NP',\n",
    "                        'VX', 'VCP', 'MM', 'MAJ', 'IC', 'JKS',\n",
    "                        'JKC', 'JKG', 'JKO', 'JKB', 'JKV', 'JKQ',\n",
    "                        'JX', 'JC', 'EP', 'EF', 'EC', 'ETN', 'ETM',\n",
    "                        'XPN', 'XSN', 'XSV', 'XSA', 'XR', 'SF', 'SE',\n",
    "                        'SSO', 'SSCSY', 'SSC', 'SC', 'SY', 'SN']\n",
    "    \n",
    "    def making_df(self):\n",
    "        df = self.df.assign(pos_tagging=\"\")\n",
    "        return df\n",
    "    \n",
    "    def pos_tag(self, text):\n",
    "        return self.mecab.pos(text)\n",
    "    \n",
    "    def rm_stopPos(self, text):\n",
    "        return [word for word in text if word[1] not in self.stopPos]\n",
    "    \n",
    "    def synonyms(self, text):\n",
    "        return self.mecab.replace_synonyms(text)\n",
    "    \n",
    "    def lemmas(self, text):\n",
    "        return self.mecab.lemmatize(text)\n",
    "\n",
    "    def preprocess_data(self):\n",
    "        total_news = self.making_df()\n",
    "        total_news['pos_tagging'] = total_news['text'].apply(self.pos_tag)\n",
    "        total_news['remove_stopPos'] = total_news['pos_tagging'].apply(self.rm_stopPos)\n",
    "        total_news['synonyms'] = total_news['remove_stopPos'].apply(self.synonyms)\n",
    "        total_news['result'] = total_news['synonyms'].apply(self.lemmas)\n",
    "        return total_news[['result', 'up_down']]\n",
    "    \n",
    "    print(\"전처리 진행중\")\n",
    "        \n",
    "\n",
    "data_processor = DataPreprocessing('./news_1000.csv')\n",
    "preprocessed_data = data_processor.preprocess_data()\n",
    "\n",
    "preprocessed_data.to_csv('./save_news.csv')\n",
    "print(preprocessed_data)\n",
    "print(\"전처리 완료\")"
   ]
  }
 ],
 "metadata": {
  "kernelspec": {
   "display_name": "study",
   "language": "python",
   "name": "python3"
  },
  "language_info": {
   "codemirror_mode": {
    "name": "ipython",
    "version": 3
   },
   "file_extension": ".py",
   "mimetype": "text/x-python",
   "name": "python",
   "nbconvert_exporter": "python",
   "pygments_lexer": "ipython3",
   "version": "3.8.17"
  },
  "orig_nbformat": 4
 },
 "nbformat": 4,
 "nbformat_minor": 2
}
