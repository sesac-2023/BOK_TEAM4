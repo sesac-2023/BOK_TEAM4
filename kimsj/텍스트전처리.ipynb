{
 "cells": [
  {
   "cell_type": "markdown",
   "metadata": {},
   "source": [
    "### 모듈 임포트"
   ]
  },
  {
   "cell_type": "code",
   "execution_count": 1,
   "metadata": {},
   "outputs": [],
   "source": [
    "import pandas as pd\n",
    "import numpy as np\n",
    "from ekonlpy.tag import Mecab\n",
    "mecab = Mecab()"
   ]
  },
  {
   "cell_type": "markdown",
   "metadata": {},
   "source": [
    "### 뉴스 데이터 불러오기"
   ]
  },
  {
   "cell_type": "code",
   "execution_count": 3,
   "metadata": {},
   "outputs": [],
   "source": [
    "news = pd.read_csv(\"news_temp.csv\")"
   ]
  },
  {
   "cell_type": "code",
   "execution_count": 4,
   "metadata": {},
   "outputs": [],
   "source": [
    "# 뉴스 데이터 중 3개정도만 일부 실행해봄\n",
    "\n",
    "p = news.iloc[:4]"
   ]
  },
  {
   "cell_type": "markdown",
   "metadata": {},
   "source": [
    "### 불필요 품사 제거하기 (불용POS처리, 불용어는 아직 안정함)"
   ]
  },
  {
   "cell_type": "code",
   "execution_count": 5,
   "metadata": {},
   "outputs": [],
   "source": [
    "# assign으로 pos_title, pos_contents 라는 빈 열을 만들어준다.\n",
    "p=p.assign(pos_title=\"\", pos_contents=\"\", total_pre=\"\")"
   ]
  },
  {
   "cell_type": "code",
   "execution_count": 14,
   "metadata": {},
   "outputs": [
    {
     "data": {
      "text/plain": [
       "0    [(명량, NNP), (해전, NNG), (이, JKS), (순신, NNG), (처...\n",
       "1    [(치솟, VV), (는, ETM), (원달러환율, NNG), (에, JKB), (...\n",
       "2    [(수출, NNG), (회복세, NNG), (에, JKB), (도, JX), (내수...\n",
       "3    [(박정원, NNP), (두산, NNP), (회장, NNG), (단단, NNG), ...\n",
       "Name: total_pre, dtype: object"
      ]
     },
     "execution_count": 14,
     "metadata": {},
     "output_type": "execute_result"
    }
   ],
   "source": [
    "p['total_pre']"
   ]
  },
  {
   "cell_type": "code",
   "execution_count": 16,
   "metadata": {},
   "outputs": [
    {
     "data": {
      "text/plain": [
       "('해전', 'NNG')"
      ]
     },
     "execution_count": 16,
     "metadata": {},
     "output_type": "execute_result"
    }
   ],
   "source": [
    "p['pos_title'][0]["
   ]
  },
  {
   "cell_type": "code",
   "execution_count": 11,
   "metadata": {},
   "outputs": [],
   "source": [
    "# 불필요하다고 판단 된 품사 제거\n",
    "# 품사와 품사 태그 셋 : https://happygrammer.github.io/nlp/postag-set/\n",
    "\n",
    "stopPos= ['NR',\n",
    " 'VX', 'VCP', 'VCN', 'MM', 'IC',\n",
    " 'JKC', 'JKO', 'JKB', 'JKV', 'JKQ', \n",
    "'JX', 'JC', 'EP', 'EF',\n",
    " 'EC', 'ETN', 'ETM', 'XPN', 'XSN',\n",
    " 'XSV', 'XSA', 'XR', 'SF', 'SE',\n",
    " 'SSO', 'SSC', 'SC', 'SY','NNP']"
   ]
  },
  {
   "cell_type": "code",
   "execution_count": 12,
   "metadata": {},
   "outputs": [],
   "source": [
    "\n",
    "\n",
    "\n",
    "for i in range(len(p)):\n",
    "\n",
    "    p['pos_title'][i] = mecab.pos(p['title'][i]) # p의 pos_title에 title pos 태깅한 값 삽입\n",
    "    p['pos_contents'][i] = mecab.pos(p['contents'][i]) # p의 pos_contents에 contents pos 태깅한 값 삽입\n",
    "    if p['pos_title'][i] not in stopPos: # 만약 pos_title안의 값\n",
    "        p['total_pre'][i]= p['pos_title'][i]\n",
    "        \n",
    "\n",
    "        # 여기서 j를 추가 해야할 듯. 집가서"
   ]
  },
  {
   "cell_type": "code",
   "execution_count": null,
   "metadata": {},
   "outputs": [],
   "source": []
  }
 ],
 "metadata": {
  "kernelspec": {
   "display_name": "Python 3",
   "language": "python",
   "name": "python3"
  },
  "language_info": {
   "codemirror_mode": {
    "name": "ipython",
    "version": 3
   },
   "file_extension": ".py",
   "mimetype": "text/x-python",
   "name": "python",
   "nbconvert_exporter": "python",
   "pygments_lexer": "ipython3",
   "version": "3.11.4"
  },
  "orig_nbformat": 4
 },
 "nbformat": 4,
 "nbformat_minor": 2
}
